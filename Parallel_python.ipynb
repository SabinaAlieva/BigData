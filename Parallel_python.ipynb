{
 "cells": [
  {
   "cell_type": "markdown",
   "metadata": {},
   "source": [
    "### Нужно написать две программы:\n",
    "\n",
    "1) Первая генерирует бинарный файл (min 2Гб), состоящий из случайных 32-рязрядных беззнаковых целых чисел (big endian).\n",
    "\n",
    "2) Вторая считает сумму этих чисел (с применением длинной арифметики), находит минимальное и максимальное число.\n",
    "\n",
    "Реализуйте две версии  \n",
    "1. Простое последовательное чтение \n",
    "2. Многопоточная + memory-mapped files. \n",
    "\n",
    "Сравните время работы. "
   ]
  },
  {
   "cell_type": "code",
   "execution_count": 202,
   "metadata": {},
   "outputs": [],
   "source": [
    "import random\n",
    "import numpy as np\n",
    "import time\n",
    "\n",
    "import mmap\n",
    "import os\n",
    "import tempfile\n",
    "\n",
    "import threading\n",
    "from concurrent.futures import ThreadPoolExecutor, Future\n",
    "\n",
    "import warnings\n",
    "warnings.filterwarnings('ignore')"
   ]
  },
  {
   "cell_type": "code",
   "execution_count": 203,
   "metadata": {},
   "outputs": [],
   "source": [
    "count = 1000000\n",
    "filename = \"task1_data.txt\"\n",
    "\n",
    "def print_res(sum_arr, max_arr, min_arr):\n",
    "    print(f'Сумма элементов: \\t{sum_arr}')\n",
    "    print(f'Максимальный элемент: \\t{max_arr}')\n",
    "    print(f'Минимальный элемент: \\t{min_arr}')\n",
    "\n",
    "def write(data, filename):\n",
    "    file = open(filename, \"w\")\n",
    "    res = \"\\n\".join([str(n) for n in data])\n",
    "    file.write(res)\n",
    "    file.close()\n",
    "    \n",
    "def read(filename):\n",
    "    file = open(filename)\n",
    "    data = [int(num) for num in file.read().split('\\n') if len(num) > 0]\n",
    "    file.close()\n",
    "    return data\n",
    "\n",
    "def time_counter(func):\n",
    "    start_time = time.clock()\n",
    "    func()\n",
    "    print(time.clock() - start_time, \"seconds\")\n",
    "    print(\"---------------------------------------\")"
   ]
  },
  {
   "cell_type": "markdown",
   "metadata": {},
   "source": [
    "### Обычное решение"
   ]
  },
  {
   "cell_type": "code",
   "execution_count": 204,
   "metadata": {},
   "outputs": [
    {
     "name": "stdout",
     "output_type": "stream",
     "text": [
      "Сумма элементов: \t8.950804433803202e-28\n",
      "Максимальный элемент: \t4.857875059634242e-33\n",
      "Минимальный элемент: \t2.9666095620860915e-260\n"
     ]
    }
   ],
   "source": [
    "def simple_sol_numpy():\n",
    "    # генерация массива\n",
    "    mas = []\n",
    "    rng = random.SystemRandom(0)\n",
    "\n",
    "    for step in range(count):\n",
    "        mas.append(rng.randint(10**31, 10**32))\n",
    "\n",
    "    # сохранение в файл через numpy\n",
    "    array = np.array(mas)\n",
    "    np.savetxt(filename, array, newline=\"\\n\")\n",
    "\n",
    "    # решение с numpy\n",
    "    array = np.fromfile(filename)\n",
    "    print_res(array.sum(), array.max(), array.min())\n",
    "    \n",
    "simple_sol_numpy()"
   ]
  },
  {
   "cell_type": "code",
   "execution_count": 205,
   "metadata": {},
   "outputs": [
    {
     "name": "stdout",
     "output_type": "stream",
     "text": [
      "Сумма элементов: \t55016357419293429938159561241635516716\n",
      "Максимальный элемент: \t99999985658716155010329428317656\n",
      "Минимальный элемент: \t10000052078615530310446554003404\n"
     ]
    }
   ],
   "source": [
    "def simple_sol_no_numpy_read_write():\n",
    "    # генерация массива\n",
    "    mas = []\n",
    "    rng = random.SystemRandom(0)\n",
    "\n",
    "    for step in range(count):\n",
    "        mas.append(rng.randint(10**31, 10**32))\n",
    "\n",
    "    # сохранение в файл через функцию\n",
    "    write(mas, filename)\n",
    "\n",
    "    # решение без numpy, просто запись-чтение\n",
    "    sum_num, max_num, min_num = 0, 0, 10**32\n",
    "    array = read(filename)\n",
    "\n",
    "    for num in array:\n",
    "        if (num > max_num):\n",
    "            max_num = num\n",
    "        if (num < min_num):\n",
    "            min_num = num\n",
    "        sum_num += num\n",
    "\n",
    "    print_res(sum_num, max_num, min_num)\n",
    "    \n",
    "simple_sol_no_numpy_read_write()"
   ]
  },
  {
   "cell_type": "code",
   "execution_count": 206,
   "metadata": {},
   "outputs": [
    {
     "name": "stdout",
     "output_type": "stream",
     "text": [
      "Сумма элементов: \t54952365033605260056985565163124857202\n",
      "Максимальный элемент: \t99999947510556274231914433369255\n",
      "Минимальный элемент: \t10000029755380676046176511474445\n"
     ]
    }
   ],
   "source": [
    "def simple_sol_no_numpy_consist():\n",
    "    # генерация и сохранение последовательно\n",
    "    rng = random.SystemRandom(0)\n",
    "    with open(filename, \"w\") as file:\n",
    "        for step in range(count):\n",
    "            file.write(str(rng.randint(10**31, 10**32)) + '\\n')\n",
    "\n",
    "    # без numpy + последовательное чтение\n",
    "    sum_num, max_num, min_num = 0, 0, 10**32\n",
    "    mas = []\n",
    "\n",
    "    file = open(filename)\n",
    "    for line in file.readlines():\n",
    "        num = int(line)\n",
    "        if (num > max_num):\n",
    "            max_num = num\n",
    "        if (num < min_num):\n",
    "            min_num = num\n",
    "        sum_num += num\n",
    "    file.close()\n",
    "\n",
    "    print_res(sum_num, max_num, min_num)\n",
    "    \n",
    "simple_sol_no_numpy_consist()"
   ]
  },
  {
   "cell_type": "markdown",
   "metadata": {},
   "source": [
    "### Memory-mapped + threads"
   ]
  },
  {
   "cell_type": "code",
   "execution_count": 207,
   "metadata": {
    "scrolled": true
   },
   "outputs": [
    {
     "name": "stdout",
     "output_type": "stream",
     "text": [
      "Сумма элементов: \t54997306748785615080077539178795007399\n",
      "Максимальный элемент: \t99999889619548589234605677540977\n",
      "Минимальный элемент: \t10000179686248842361385737435356\n"
     ]
    }
   ],
   "source": [
    "# многопоточная версия без numpy + memory-mapped files\n",
    "\n",
    "f_name = 'file_for_memmap.txt'\n",
    "rng = random.SystemRandom(0)\n",
    "\n",
    "sum_num = 0\n",
    "max_num = 0\n",
    "min_num = 10**32\n",
    "\n",
    "dig = 32\n",
    "\n",
    "def no_threads_mmap():\n",
    "    \n",
    "    global sum_num\n",
    "    global max_num\n",
    "    global min_num\n",
    "    \n",
    "    try:    \n",
    "        # заполняем файл строками       \n",
    "        with open(f_name, 'w', encoding='utf-8') as f:\n",
    "            for num in range(1, count):\n",
    "                f.write(str(rng.randint(10**31, 10**32)))\n",
    "                # f.write(str(10**32 + num))\n",
    "\n",
    "        # мапим файл на память\n",
    "        with open(f_name, 'r+b') as f:\n",
    "            with mmap.mmap(f.fileno(), length=dig * (count-1), offset=0, access=mmap.ACCESS_WRITE) as mm:\n",
    "                # print(mm[0:32])\n",
    "                \n",
    "                for i in range(0, count-1):\n",
    "                    num = int(mm[i*dig: (i+1)*dig])\n",
    "                    \n",
    "                    if num > max_num:\n",
    "                        max_num = num\n",
    "                    if num < min_num:\n",
    "                        min_num = num\n",
    "                    \n",
    "                    sum_num += num\n",
    "        \n",
    "        # проверяем изменения\n",
    "        with open(f_name, 'r', encoding='utf-8') as f:\n",
    "            # print(f.readline()[0:32])\n",
    "            pass\n",
    "    finally:\n",
    "        #Удалям файл\n",
    "        os.remove(f_name)\n",
    "        print_res(sum_num, max_num, min_num)\n",
    "\n",
    "no_threads_mmap()"
   ]
  },
  {
   "cell_type": "code",
   "execution_count": 208,
   "metadata": {},
   "outputs": [
    {
     "name": "stdout",
     "output_type": "stream",
     "text": [
      "Сумма элементов: \t43166163100460461753411199842843410891\n",
      "Максимальный элемент: \t99999898024374207804803158356089\n",
      "Минимальный элемент: \t10000049287312004443395383026339\n"
     ]
    },
    {
     "name": "stderr",
     "output_type": "stream",
     "text": [
      "Exception in thread Thread-34:\n",
      "Traceback (most recent call last):\n",
      "  File \"c:\\users\\138904\\appdata\\local\\programs\\python\\python37\\lib\\threading.py\", line 926, in _bootstrap_inner\n",
      "    self.run()\n",
      "  File \"c:\\users\\138904\\appdata\\local\\programs\\python\\python37\\lib\\threading.py\", line 870, in run\n",
      "    self._target(*self._args, **self._kwargs)\n",
      "  File \"<ipython-input-208-f55790b25393>\", line 22, in search\n",
      "    num = int(array[i*dig: (i+1)*dig])\n",
      "ValueError: invalid literal for int() with base 10: b''\n",
      "\n"
     ]
    }
   ],
   "source": [
    "# многопоточная версия без numpy + memory-mapped files\n",
    "\n",
    "f_name = 'file_for_memmap.txt'\n",
    "rng = random.SystemRandom(0)\n",
    "\n",
    "sum_num = 0\n",
    "max_num = 0\n",
    "min_num = 10**32\n",
    "\n",
    "lock_min = threading.Lock()\n",
    "lock_max = threading.Lock()\n",
    "\n",
    "dig = 32\n",
    "\n",
    "def search(array, size):\n",
    "        \n",
    "    global sum_num\n",
    "    global max_num\n",
    "    global min_num\n",
    "    \n",
    "    for i in range(0, size):\n",
    "        num = int(array[i*dig: (i+1)*dig])\n",
    "        sum_num += num\n",
    "        \n",
    "        if num > max_num:\n",
    "            max_num = num\n",
    "        if num < min_num:\n",
    "            min_num = num\n",
    "    \n",
    "\n",
    "def threads_mmap():\n",
    "    try:    \n",
    "        # заполняем файл строками       \n",
    "        with open(f_name, 'w', encoding='utf-8') as f:\n",
    "            for num in range(1, count):\n",
    "                f.write(str(rng.randint(10**31, 10**32)))\n",
    "                # f.write(str(10**32 + num))\n",
    "\n",
    "        # мапим файл на память\n",
    "        with open(f_name, 'r+b') as f:\n",
    "            with mmap.mmap(f.fileno(), length=dig * (count-1), offset=0, access=mmap.ACCESS_WRITE) as mm:\n",
    "                # print(mm[0:32])\n",
    "                \n",
    "                chunk = count // 4\n",
    "        \n",
    "                thread1 = threading.Thread(target=search, args=(mm[0: chunk*dig], chunk))\n",
    "                thread2 = threading.Thread(target=search, args=(mm[chunk*dig: 2*chunk*dig], chunk))\n",
    "                thread3 = threading.Thread(target=search, args=(mm[2*chunk*dig: 3*chunk*dig], chunk))\n",
    "                thread4 = threading.Thread(target=search, args=(mm[3*chunk*dig:], chunk))\n",
    "\n",
    "                thread1.start()\n",
    "                thread2.start()\n",
    "                thread3.start()\n",
    "                thread4.start()\n",
    "\n",
    "                thread1.join()\n",
    "                thread2.join()\n",
    "                thread3.join()\n",
    "                thread4.join()\n",
    "        \n",
    "        # проверяем изменения\n",
    "        with open(f_name, 'r', encoding='utf-8') as f:\n",
    "            # print(f.readline()[0:32])\n",
    "            pass\n",
    "    finally:\n",
    "        #Удалям файл\n",
    "        os.remove(f_name)\n",
    "        print_res(sum_num, max_num, min_num)\n",
    "\n",
    "threads_mmap()"
   ]
  },
  {
   "cell_type": "code",
   "execution_count": 209,
   "metadata": {},
   "outputs": [
    {
     "name": "stdout",
     "output_type": "stream",
     "text": [
      "Сумма элементов: \t10067250021858296377535852896357132831\n",
      "Максимальный элемент: \t99999954170497355640457015548331\n",
      "Минимальный элемент: \t10000165008323626846268406586067\n"
     ]
    }
   ],
   "source": [
    "# многопоточная версия без numpy + memory-mapped files\n",
    "\n",
    "f_name = 'file_for_memmap.txt'\n",
    "rng = random.SystemRandom(0)\n",
    "\n",
    "sum_num = 0\n",
    "max_num = 0\n",
    "min_num = 10**32\n",
    "\n",
    "lock_min = threading.Lock()\n",
    "lock_max = threading.Lock()\n",
    "\n",
    "dig = 32\n",
    "\n",
    "def search(array, size):\n",
    "        \n",
    "    global sum_num\n",
    "    global max_num\n",
    "    global min_num\n",
    "    \n",
    "    for i in range(0, size):\n",
    "        num = int(array[i*dig: (i+1)*dig])\n",
    "        sum_num += num\n",
    "        \n",
    "        if num > max_num:\n",
    "            max_num = num\n",
    "        if num < min_num:\n",
    "            min_num = num\n",
    "    \n",
    "\n",
    "def threads_executor_mmap():\n",
    "    try:    \n",
    "        # заполняем файл строками       \n",
    "        with open(f_name, 'w', encoding='utf-8') as f:\n",
    "            for num in range(1, count):\n",
    "                f.write(str(rng.randint(10**31, 10**32)))\n",
    "                # f.write(str(10**32 + num))\n",
    "\n",
    "        # мапим файл на память\n",
    "        with open(f_name, 'r+b') as f:\n",
    "            with mmap.mmap(f.fileno(), length=dig * (count-1), offset=0, access=mmap.ACCESS_WRITE) as mm:\n",
    "                # print(mm[0:32])\n",
    "                \n",
    "                chunk = count // 4\n",
    "                executor = ThreadPoolExecutor(max_workers=4)\n",
    "                future1 = executor.submit(search, mm[0: chunk*dig], chunk) \n",
    "                future2 = executor.submit(search, mm[chunk*dig: 2*chunk*dig], chunk)\n",
    "                future3 = executor.submit(search, mm[2*chunk*dig: 3*chunk*dig], chunk)\n",
    "                future4 = executor.submit(search, mm[3*chunk*dig:], chunk)\n",
    "        \n",
    "        # проверяем изменения\n",
    "        with open(f_name, 'r', encoding='utf-8') as f:\n",
    "            # print(f.readline()[0:32])\n",
    "            pass\n",
    "    finally:\n",
    "        #Удалям файл\n",
    "        os.remove(f_name)\n",
    "        print_res(sum_num, max_num, min_num)\n",
    "\n",
    "threads_executor_mmap()"
   ]
  },
  {
   "cell_type": "markdown",
   "metadata": {},
   "source": [
    "### Подсчет времени"
   ]
  },
  {
   "cell_type": "code",
   "execution_count": 210,
   "metadata": {},
   "outputs": [
    {
     "name": "stdout",
     "output_type": "stream",
     "text": [
      "Обычное решение с numpy:\n",
      "Сумма элементов: \t8.989849966608852e-28\n",
      "Максимальный элемент: \t4.85787505967996e-33\n",
      "Минимальный элемент: \t2.9666095620860915e-260\n",
      "13.464835099999618 seconds\n",
      "---------------------------------------\n",
      "Обычное решение без numpy запись-чтение:\n",
      "Сумма элементов: \t54956237976048955551827424022883966723\n",
      "Максимальный элемент: \t99999996883992361951502762168219\n",
      "Минимальный элемент: \t10000153842164897681468652799532\n",
      "7.866681799998332 seconds\n",
      "---------------------------------------\n",
      "Обычное решение без numpy с последовательным чтением:\n",
      "Сумма элементов: \t55003727247389875599109427420505382476\n",
      "Максимальный элемент: \t99999963393363057435718530816535\n",
      "Минимальный элемент: \t10000028439656604639360131940027\n",
      "9.646680700003344 seconds\n",
      "---------------------------------------\n",
      "Ускоренное решение с mapping:\n",
      "Сумма элементов: \t99049728745823916899628229702911328862\n",
      "Максимальный элемент: \t99999954170497355640457015548331\n",
      "Минимальный элемент: \t10000066906584466854769633787751\n",
      "7.77167080000072 seconds\n",
      "---------------------------------------\n",
      "Ускоренное решение с mapping и потоками:\n"
     ]
    },
    {
     "name": "stderr",
     "output_type": "stream",
     "text": [
      "Exception in thread Thread-38:\n",
      "Traceback (most recent call last):\n",
      "  File \"c:\\users\\138904\\appdata\\local\\programs\\python\\python37\\lib\\threading.py\", line 926, in _bootstrap_inner\n",
      "    self.run()\n",
      "  File \"c:\\users\\138904\\appdata\\local\\programs\\python\\python37\\lib\\threading.py\", line 870, in run\n",
      "    self._target(*self._args, **self._kwargs)\n",
      "  File \"<ipython-input-209-6905df41f4a3>\", line 22, in search\n",
      "    num = int(array[i*dig: (i+1)*dig])\n",
      "ValueError: invalid literal for int() with base 10: b''\n",
      "\n"
     ]
    },
    {
     "name": "stdout",
     "output_type": "stream",
     "text": [
      "Сумма элементов: \t144006177850475002458115456443125750640\n",
      "Максимальный элемент: \t99999954170497355640457015548331\n",
      "Минимальный элемент: \t10000066906584466854769633787751\n",
      "7.969380199996522 seconds\n",
      "---------------------------------------\n",
      "Ускоренное решение с mapping и пулом потоков:\n",
      "Сумма элементов: \t154504733692454794214493917050013504280\n",
      "Максимальный элемент: \t99999954170497355640457015548331\n",
      "Минимальный элемент: \t10000066906584466854769633787751\n",
      "7.302940099994885 seconds\n",
      "---------------------------------------\n"
     ]
    }
   ],
   "source": [
    "print(\"Обычное решение с numpy:\")\n",
    "time_counter(simple_sol_numpy)\n",
    "\n",
    "print(\"Обычное решение без numpy запись-чтение:\")\n",
    "time_counter(simple_sol_no_numpy_read_write)\n",
    "\n",
    "print(\"Обычное решение без numpy с последовательным чтением:\")\n",
    "time_counter(simple_sol_no_numpy_consist)\n",
    "\n",
    "print(\"Ускоренное решение с mapping:\")\n",
    "time_counter(no_threads_mmap)\n",
    "\n",
    "print(\"Ускоренное решение с mapping и потоками:\")\n",
    "time_counter(threads_mmap)\n",
    "\n",
    "print(\"Ускоренное решение с mapping и пулом потоков:\")\n",
    "time_counter(threads_executor_mmap)"
   ]
  },
  {
   "cell_type": "markdown",
   "metadata": {},
   "source": [
    "### Прочие попытки"
   ]
  },
  {
   "cell_type": "code",
   "execution_count": 62,
   "metadata": {},
   "outputs": [
    {
     "name": "stdout",
     "output_type": "stream",
     "text": [
      "[7249887284225015 3831196678972692  749394605336612 8831801227387921\n",
      " 4074856573812913 9739797438265470  140386757324942 6849682196043975\n",
      "  395772335661113 9684499392227464]\n",
      "[7249887284225015 3831196678972692  749394605336612 8831801227387921\n",
      " 4074856573812913 9739797438265470  140386757324942 6849682196043975\n",
      "  395772335661113 9684499392227464]\n"
     ]
    }
   ],
   "source": [
    "# numpy + memory-mapped files\n",
    "# здесь больше чем с 16 разрядами не получилось\n",
    "\n",
    "f_name = 'file_for_memmap_np.txt'\n",
    "count = 10\n",
    "rng = random.SystemRandom(0)\n",
    "\n",
    "def numpy_mapping():\n",
    "    try:    \n",
    "        # записываем туда бинарное представление массива numpy      \n",
    "        with open(f_name, 'wb') as f:\n",
    "            mas = [rng.randint(0, 10**16) for num in range(count)] \n",
    "            arr = np.array(mas, dtype = np.int64)\n",
    "            f.write(arr.data)\n",
    "            print(arr)\n",
    "            \n",
    "        # мапим файл на память\n",
    "        with open(f_name, 'r+b') as f:\n",
    "            with mmap.mmap(f.fileno(), length=count*8, offset=0, access=mmap.ACCESS_WRITE) as mm:\n",
    "                # восстанавливаем массив\n",
    "                arr = np.frombuffer(mm, dtype = np.int64)\n",
    "                print(arr)  \n",
    "    finally:\n",
    "        #Удалям файл\n",
    "        os.remove(f_name)\n",
    "        \n",
    "numpy_mapping()"
   ]
  }
 ],
 "metadata": {
  "kernelspec": {
   "display_name": "Python 3",
   "language": "python",
   "name": "python3"
  },
  "language_info": {
   "codemirror_mode": {
    "name": "ipython",
    "version": 3
   },
   "file_extension": ".py",
   "mimetype": "text/x-python",
   "name": "python",
   "nbconvert_exporter": "python",
   "pygments_lexer": "ipython3",
   "version": "3.7.6"
  }
 },
 "nbformat": 4,
 "nbformat_minor": 2
}
