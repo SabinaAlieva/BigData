{
 "cells": [
  {
   "cell_type": "markdown",
   "metadata": {},
   "source": [
    "### Нужно написать две программы:\n",
    "\n",
    "1) Первая генерирует бинарный файл (min 2Гб), состоящий из случайных 32-рязрядных беззнаковых целых чисел (big endian).\n",
    "\n",
    "2) Вторая считает сумму этих чисел (с применением длинной арифметики), находит минимальное и максимальное число.\n",
    "\n",
    "Реализуйте две версии  \n",
    "1. Простое последовательное чтение \n",
    "2. Многопоточная + memory-mapped files. \n",
    "\n",
    "Сравните время работы."
   ]
  },
  {
   "cell_type": "code",
   "execution_count": 1,
   "metadata": {},
   "outputs": [],
   "source": [
    "import random\n",
    "import numpy as np\n",
    "import time\n",
    "\n",
    "import mmap\n",
    "import os\n",
    "\n",
    "from concurrent.futures import ThreadPoolExecutor, Future\n",
    "from multiprocessing import Process, Pool\n",
    "import concurrent.futures\n",
    "\n",
    "import warnings\n",
    "warnings.filterwarnings('ignore')"
   ]
  },
  {
   "cell_type": "code",
   "execution_count": 2,
   "metadata": {},
   "outputs": [],
   "source": [
    "length = 1000000000\n",
    "f_name = \"big_array_32.txt\"\n",
    "\n",
    "def print_res(sum_arr, max_arr, min_arr):\n",
    "    print(f'Сумма элементов: \\t{sum_arr}')\n",
    "    print(f'Максимальный элемент: \\t{max_arr}')\n",
    "    print(f'Минимальный элемент: \\t{min_arr}')\n",
    "\n",
    "def time_counter(func):\n",
    "    start_time = time.clock()\n",
    "    func()\n",
    "    print(time.clock() - start_time, \"seconds\")\n",
    "    print(\"---------------------------------------\")"
   ]
  },
  {
   "cell_type": "markdown",
   "metadata": {},
   "source": [
    "### Генерация файла"
   ]
  },
  {
   "cell_type": "code",
   "execution_count": 8,
   "metadata": {},
   "outputs": [],
   "source": [
    "CHUNK_SIZE = length\n",
    "with open(f_name, 'wb') as f:\n",
    "    arr = np.random.randint(2, length, size=CHUNK_SIZE//4, dtype=np.dtype('uint32').newbyteorder('B')).byteswap()                        \n",
    "    f.write(arr.data)"
   ]
  },
  {
   "cell_type": "markdown",
   "metadata": {},
   "source": [
    "### Считывание файла"
   ]
  },
  {
   "cell_type": "code",
   "execution_count": 9,
   "metadata": {},
   "outputs": [
    {
     "name": "stdout",
     "output_type": "stream",
     "text": [
      "12500000\n",
      "[ 3356088821434179587  -316720921354585599  4443556422207862784 ...\n",
      "  7782215778208067331  3480084058049985797 -3387881190111985407]\n"
     ]
    }
   ],
   "source": [
    "# с memory-mapped files\n",
    "with open(f_name, 'r+b') as f:\n",
    "    with mmap.mmap(f.fileno(), length=length, offset=0, access=mmap.ACCESS_WRITE) as mm:\n",
    "        # восстанавливаем массив\n",
    "        arr = np.frombuffer(mm, dtype=np.int64)\n",
    "        print(len(arr))\n",
    "        print(arr)"
   ]
  },
  {
   "cell_type": "code",
   "execution_count": 10,
   "metadata": {},
   "outputs": [
    {
     "name": "stdout",
     "output_type": "stream",
     "text": [
      "[56639092  3773230 29014277 ... 62802736 29435362 30735312]\n"
     ]
    }
   ],
   "source": [
    "# обычное\n",
    "with open(f_name, 'r+b') as f:\n",
    "    buf = f.read()\n",
    "    array = np.frombuffer(buf, dtype=np.dtype('uint32').newbyteorder('B'))\n",
    "    \n",
    "    print(array)"
   ]
  },
  {
   "cell_type": "markdown",
   "metadata": {},
   "source": [
    "## Последовательное чтение и расчет величин"
   ]
  },
  {
   "cell_type": "code",
   "execution_count": 11,
   "metadata": {},
   "outputs": [
    {
     "name": "stdout",
     "output_type": "stream",
     "text": [
      "Сумма элементов: \t1250004595991438\n",
      "Максимальный элемент: \t99999996\n",
      "Минимальный элемент: \t6\n"
     ]
    }
   ],
   "source": [
    "def simple_find():\n",
    "    with open(f_name, 'r+b') as f:\n",
    "        buf = f.read()\n",
    "        array = np.frombuffer(buf, dtype=np.dtype('uint32').newbyteorder('B'))\n",
    "\n",
    "        sum_num, max_num, min_num = 0, 0, 10**32\n",
    "        mas = []\n",
    "\n",
    "        for num in array:\n",
    "            if (num > max_num):\n",
    "                max_num = num\n",
    "            if (num < min_num):\n",
    "                min_num = num\n",
    "            sum_num += num\n",
    "\n",
    "        f.close()\n",
    "\n",
    "    print_res(sum_num, max_num, min_num)\n",
    "    \n",
    "simple_find()"
   ]
  },
  {
   "cell_type": "markdown",
   "metadata": {},
   "source": [
    "## Многопоточное и memory-mapped files"
   ]
  },
  {
   "cell_type": "markdown",
   "metadata": {},
   "source": [
    "### Только numpy"
   ]
  },
  {
   "cell_type": "code",
   "execution_count": 16,
   "metadata": {},
   "outputs": [
    {
     "name": "stdout",
     "output_type": "stream",
     "text": [
      "Сумма элементов: \t1250004595991438\n",
      "Максимальный элемент: \t99999996\n",
      "Минимальный элемент: \t6\n"
     ]
    }
   ],
   "source": [
    "def numpy_find():\n",
    "    with open(f_name, 'r+b') as f:\n",
    "        buf = mmap.mmap(f.fileno(), length=length, offset=0, access=mmap.ACCESS_READ)\n",
    "        array = np.frombuffer(buf, dtype=np.dtype('uint32').newbyteorder('B'))\n",
    "        print_res(sum(array), array.max(), array.min())\n",
    "        \n",
    "numpy_find()"
   ]
  },
  {
   "cell_type": "markdown",
   "metadata": {},
   "source": [
    "### Многопоточная версия с future "
   ]
  },
  {
   "cell_type": "code",
   "execution_count": 18,
   "metadata": {},
   "outputs": [
    {
     "name": "stdout",
     "output_type": "stream",
     "text": [
      "Сумма элементов: \t864199213411575\n",
      "Максимальный элемент: \t99999996\n",
      "Минимальный элемент: \t6\n"
     ]
    }
   ],
   "source": [
    "sum_num = 0\n",
    "max_num = 0\n",
    "min_num = 10**32\n",
    "\n",
    "def search(array): \n",
    "    global sum_num\n",
    "    global max_num\n",
    "    global min_num\n",
    "    \n",
    "    for num in array:\n",
    "        sum_num += num\n",
    "        if num > max_num:\n",
    "            max_num = num\n",
    "        if num < min_num:\n",
    "            min_num = num\n",
    "\n",
    "def mmp_thread_future_find():\n",
    "    chunk = length // 8\n",
    "\n",
    "    global sum_num\n",
    "    sum_num = 0\n",
    "    global max_num\n",
    "    max_num = 0\n",
    "    global min_num\n",
    "    min_num = 10**32\n",
    "    \n",
    "    with open(f_name, 'r+b') as f:\n",
    "        buf = mmap.mmap(f.fileno(), length=length, offset=0, access=mmap.ACCESS_READ)\n",
    "        array = np.frombuffer(buf, dtype=np.dtype('uint32').newbyteorder('B'))\n",
    "\n",
    "        with concurrent.futures.ThreadPoolExecutor(max_workers=8) as executor:\n",
    "            arrays = [array[0: chunk], array[chunk: 2*chunk], array[2*chunk: 3*chunk], array[3*chunk:4*chunk], \\\n",
    "                     array[4*chunk: 5*chunk], array[5*chunk: 6*chunk], array[6*chunk: 7*chunk], array[7*chunk:]]\n",
    "            future = {executor.submit(search, ar): ar for ar in arrays}\n",
    "            \n",
    "    print_res(sum_num, max_num, min_num)\n",
    "    \n",
    "mmp_thread_future_find()"
   ]
  },
  {
   "cell_type": "markdown",
   "metadata": {},
   "source": [
    "### Замер времени"
   ]
  },
  {
   "cell_type": "code",
   "execution_count": 19,
   "metadata": {},
   "outputs": [
    {
     "name": "stdout",
     "output_type": "stream",
     "text": [
      "Обычное решение с последовательным сравнением\n",
      "Сумма элементов: \t1250004595991438\n",
      "Максимальный элемент: \t99999996\n",
      "Минимальный элемент: \t6\n",
      "9.314176299999986 seconds\n",
      "---------------------------------------\n",
      "Решение через методы numpy\n",
      "Сумма элементов: \t1250004595991438\n",
      "Максимальный элемент: \t99999996\n",
      "Минимальный элемент: \t6\n",
      "6.8776567000000455 seconds\n",
      "---------------------------------------\n",
      "Решение с пулом потоков и маппингом\n",
      "Сумма элементов: \t829852926764703\n",
      "Максимальный элемент: \t99999996\n",
      "Минимальный элемент: \t6\n",
      "11.394280999999978 seconds\n",
      "---------------------------------------\n"
     ]
    }
   ],
   "source": [
    "print(\"Обычное решение с последовательным сравнением\")\n",
    "time_counter(simple_find)\n",
    "\n",
    "print(\"Решение через методы numpy\")\n",
    "time_counter(numpy_find)\n",
    "\n",
    "print(\"Решение с пулом потоков и маппингом\")\n",
    "time_counter(mmp_thread_future_find)"
   ]
  },
  {
   "cell_type": "markdown",
   "metadata": {},
   "source": [
    "## Прочие попытки, которые не привели к успеху"
   ]
  },
  {
   "cell_type": "markdown",
   "metadata": {},
   "source": [
    "### Пул процессов\n",
    "Этот пример бесконечно грузится"
   ]
  },
  {
   "cell_type": "code",
   "execution_count": null,
   "metadata": {},
   "outputs": [],
   "source": [
    "sum_num = 0\n",
    "max_num = 0\n",
    "min_num = 10**32\n",
    "\n",
    "lock_min = threading.Lock()\n",
    "lock_max = threading.Lock()\n",
    "\n",
    "chunk = length // 4\n",
    "\n",
    "def search(array): \n",
    "    global sum_num\n",
    "    global max_num\n",
    "    global min_num\n",
    "    \n",
    "    for num in array:\n",
    "        sum_num += num\n",
    "        if num > max_num:\n",
    "            max_num = num\n",
    "        if num < min_num:\n",
    "            min_num = num\n",
    "    \n",
    "with open(f_name, 'r+b') as f:\n",
    "    buf = mmap.mmap(f.fileno(), length=length, offset=0, access=mmap.ACCESS_READ)\n",
    "    array = np.frombuffer(buf, dtype=np.dtype('uint32').newbyteorder('B'))\n",
    "\n",
    "    with Pool(4) as pool:    \n",
    "        pool.map(search, [array[0: chunk], array[chunk: 2*chunk], array[2*chunk: 3*chunk], array[3*chunk:]])\n",
    "    \n",
    "    #num_processors = 4\n",
    "    #p = Pool(processes = num_processors)\n",
    "    #output = p.map(search,[array[0: chunk], array[chunk: 2*chunk], array[2*chunk: 3*chunk], array[3*chunk:]])\n",
    "    #print(output)\n",
    "    \n",
    "print_res(sum_num, max_num, min_num)"
   ]
  },
  {
   "cell_type": "markdown",
   "metadata": {},
   "source": [
    "### Пул потоков\n",
    "Блокировки почему-то не работают, ответы выходят разные"
   ]
  },
  {
   "cell_type": "code",
   "execution_count": 8,
   "metadata": {},
   "outputs": [
    {
     "name": "stdout",
     "output_type": "stream",
     "text": [
      "Сумма элементов: \t512432016046\n",
      "Максимальный элемент: \t9999932\n",
      "Минимальный элемент: \t74\n"
     ]
    }
   ],
   "source": [
    "sum_num = 0\n",
    "max_num = 0\n",
    "min_num = 10**32\n",
    "\n",
    "lock_min = threading.Lock()\n",
    "lock_max = threading.Lock()\n",
    "\n",
    "chunk = length // 4\n",
    "\n",
    "def search(array): \n",
    "    global sum_num\n",
    "    global max_num\n",
    "    global min_num\n",
    "    \n",
    "    global lock_max\n",
    "    global lock_min\n",
    "    \n",
    "    for num in array:\n",
    "        sum_num += num\n",
    "        if num > max_num:\n",
    "            with lock_max:\n",
    "                max_num = num\n",
    "        if num < min_num:\n",
    "            with lock_min:\n",
    "                min_num = num\n",
    "            \n",
    "with open(f_name, 'r+b') as f:\n",
    "    buf = mmap.mmap(f.fileno(), length=length, offset=0, access=mmap.ACCESS_READ)\n",
    "    array = np.frombuffer(buf, dtype=np.dtype('uint32').newbyteorder('B'))\n",
    "\n",
    "    executor = ThreadPoolExecutor(max_workers=4)\n",
    "    future1 = executor.submit(search, array[0: chunk]) \n",
    "    future2 = executor.submit(search, array[chunk: 2*chunk])\n",
    "    future3 = executor.submit(search, array[2*chunk: 3*chunk])\n",
    "    future4 = executor.submit(search, array[3*chunk:])\n",
    "    \n",
    "print_res(sum_num, max_num, min_num)"
   ]
  },
  {
   "cell_type": "code",
   "execution_count": null,
   "metadata": {},
   "outputs": [],
   "source": []
  }
 ],
 "metadata": {
  "kernelspec": {
   "display_name": "Python 3",
   "language": "python",
   "name": "python3"
  },
  "language_info": {
   "codemirror_mode": {
    "name": "ipython",
    "version": 3
   },
   "file_extension": ".py",
   "mimetype": "text/x-python",
   "name": "python",
   "nbconvert_exporter": "python",
   "pygments_lexer": "ipython3",
   "version": "3.7.6"
  }
 },
 "nbformat": 4,
 "nbformat_minor": 2
}
