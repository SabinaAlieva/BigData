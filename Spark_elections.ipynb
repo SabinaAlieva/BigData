{
 "cells": [
  {
   "cell_type": "markdown",
   "metadata": {},
   "source": [
    "# Задача 3\n",
    "\n",
    "### Часть 2\n",
    "Нужно, используя `Spark`:\n",
    "- найти явку (%) по всем регионам, результат отсортировать по убыванию\n",
    "- выбрать любимого кандидата и найти тот избирательный участок, на котором он получил наибольший результат (учитывать участки на которых проголосовало больше 300 человек)\n",
    "- найти регион, где разница между ТИК с наибольшей явкой и наименьшей максимальна\n",
    "- посчитать дисперсию по явке для каждого региона (учитывать УИК)\n",
    "- для каждого кандидата посчитать таблицу: результат (%, округленный до целого) - количество УИК, на которых кандидат получил данный результат\n",
    "\n",
    "\n",
    "Результаты принимаются в виде `Jupyter Notebook`, `Spark Notebook` или исходных файлов на `Scala`."
   ]
  },
  {
   "cell_type": "code",
   "execution_count": 35,
   "metadata": {},
   "outputs": [],
   "source": [
    "##### import pyspark\n",
    "import os\n",
    "\n",
    "from pyspark import SparkContext\n",
    "from pyspark.sql import SparkSession\n",
    "\n",
    "import pyspark.sql.functions as F\n",
    "from pyspark.sql.types import StructType, StructField, IntegerType, TimestampType"
   ]
  },
  {
   "cell_type": "code",
   "execution_count": 47,
   "metadata": {},
   "outputs": [],
   "source": [
    "os.environ[\"PYSPARK_PYTHON\"] = \"python3\"\n",
    "\n",
    "VOTING_FILE = \"vibory.csv\""
   ]
  },
  {
   "cell_type": "markdown",
   "metadata": {},
   "source": [
    "### Попытки RDD"
   ]
  },
  {
   "cell_type": "code",
   "execution_count": 262,
   "metadata": {},
   "outputs": [],
   "source": [
    "# sc = SparkContext(master='local[*]')\n",
    "\n",
    "# rdd = sc.textFile(VOTING_FILE) \\\n",
    "    #.map(lambda line: line.split(',')) \n",
    "\n",
    "# rdd.takeSample(num=10, withReplacement=False) \n",
    "\n",
    "# результат - Py4JavaError"
   ]
  },
  {
   "cell_type": "markdown",
   "metadata": {},
   "source": [
    "## Spark DataFrames"
   ]
  },
  {
   "cell_type": "code",
   "execution_count": null,
   "metadata": {},
   "outputs": [],
   "source": [
    "spark = SparkSession \\\n",
    "    .builder \\\n",
    "    .appName(\"PySpark\") \\\n",
    "    .getOrCreate()"
   ]
  },
  {
   "cell_type": "code",
   "execution_count": null,
   "metadata": {},
   "outputs": [],
   "source": [
    "# изначальные названия столбцов\n",
    "\n",
    "schema = ['','Регион','ТИК','УИК','Число включенных в список',\\\n",
    "          'Число бюллетеней, полученных участковой избирательной комиссией',\\\n",
    "          'Число бюллетеней, выданных избирателям, проголосовавшим досрочно', \\\n",
    "          'Число бюллетеней, выданных в помещении для голосования в день голосования', \\\n",
    "          'Число бюллетеней, выданных вне помещения для голосования в день голосования', \\\n",
    "          'Число погашенных бюллетеней', \\\n",
    "          'Число бюллетеней в переносных ящиках для голосования',\\\n",
    "          'Число бюллетеней в стационарных ящиках для голосования', \\\n",
    "          'Число недействительных бюллетеней', \\\n",
    "          'Число действительных бюллетеней', \\\n",
    "          'Число утраченных бюллетеней', \\\n",
    "          'Число бюллетеней, не учтенных при получении ', \\\n",
    "          'Бабурин С. Н.', 'Грудинин П. Н.', 'Жириновский В. В.','Путин В. В.', \\\n",
    "          'Собчак К. А.', 'Сурайкин М. А.', 'Титов Б. Ю.','Явлинский Г. А.']"
   ]
  },
  {
   "cell_type": "code",
   "execution_count": 404,
   "metadata": {},
   "outputs": [],
   "source": [
    "# сократим значения столбцов и сделаем символические обозначения на английском для удобства\n",
    "\n",
    "df = spark.read.csv(VOTING_FILE, inferSchema=True, header=True).toDF('Num','Region','TIK','UIK', \\\n",
    "          'all people', 'recieved papers', \\\n",
    "          'papers issued early', 'papers issued inside', 'papers issued out', 'cancelled papers', \\\n",
    "          'papers in portable boxes', 'papers in stacionary boxes', \\\n",
    "          'bad papers', 'good papers', 'lost papers', 'not counted papers', \\\n",
    "          'Baburin', 'Grudinin', 'Zhirinovskyi', 'Putin', \\\n",
    "          'Sobchak', 'Suraikin', 'Titov', 'Yavlisky')"
   ]
  },
  {
   "cell_type": "markdown",
   "metadata": {},
   "source": [
    "## Найти явку (%) по всем регионам, результат отсортировать по убыванию\n",
    "\n",
    "Предполагается, что явка = сумме всех выданных бюллетеней / число всех избирателей в списке  (по всем УИК и всем ТИК)"
   ]
  },
  {
   "cell_type": "code",
   "execution_count": 416,
   "metadata": {},
   "outputs": [
    {
     "name": "stdout",
     "output_type": "stream",
     "text": [
      "+--------------------+--------------+-----------------------+------------------------+---------------------+\n",
      "|              Region|sum all people|sum papers issued early|sum papers issued inside|sum papers issued out|\n",
      "+--------------------+--------------+-----------------------+------------------------+---------------------+\n",
      "|        город Москва|       7543682|                      0|                 4348576|               172779|\n",
      "|  Московская область|       5829578|                      0|                 3540550|               167006|\n",
      "|  Краснодарский край|       4049575|                    229|                 2825178|               327900|\n",
      "| город Санкт-Пете...|       3632398|                   1795|                 2248088|                70251|\n",
      "| Свердловская обл...|       3345221|                   3210|                 2003456|                79001|\n",
      "|  Ростовская область|       3210796|                      0|                 1920477|               159301|\n",
      "| Республика Башко...|       3045698|                      0|                 2186576|               111258|\n",
      "| Республика Татар...|       2919482|                      0|                 2155833|               104476|\n",
      "| Челябинская область|       2632596|                      0|                 1641894|               106530|\n",
      "| Нижегородская об...|       2618865|                    403|                 1595437|               132168|\n",
      "+--------------------+--------------+-----------------------+------------------------+---------------------+\n",
      "only showing top 10 rows\n",
      "\n"
     ]
    }
   ],
   "source": [
    "df_presence = df.groupBy('Region') \\\n",
    "  .agg(F.sum('all people').alias('sum all people'), \\\n",
    "      F.sum('papers issued early').alias('sum papers issued early'), \\\n",
    "      F.sum('papers issued inside').alias('sum papers issued inside'), \\\n",
    "      F.sum('papers issued out').alias('sum papers issued out')) \\\n",
    "  .sort('sum all people', ascending=False) \n",
    "\n",
    "df_presence.show(10)"
   ]
  },
  {
   "cell_type": "code",
   "execution_count": 379,
   "metadata": {},
   "outputs": [
    {
     "name": "stdout",
     "output_type": "stream",
     "text": [
      "+--------------------+--------------+----------+\n",
      "|              Region|sum all people|sum papers|\n",
      "+--------------------+--------------+----------+\n",
      "|        город Москва|       7543682|   4521355|\n",
      "|  Московская область|       5829578|   3707556|\n",
      "|  Краснодарский край|       4049575|   3153307|\n",
      "| город Санкт-Пете...|       3632398|   2320134|\n",
      "| Свердловская обл...|       3345221|   2085667|\n",
      "|  Ростовская область|       3210796|   2079778|\n",
      "| Республика Башко...|       3045698|   2297834|\n",
      "| Республика Татар...|       2919482|   2260309|\n",
      "| Челябинская область|       2632596|   1748424|\n",
      "| Нижегородская об...|       2618865|   1728008|\n",
      "+--------------------+--------------+----------+\n",
      "only showing top 10 rows\n",
      "\n"
     ]
    }
   ],
   "source": [
    "from functools import reduce\n",
    "from operator import add\n",
    "from pyspark.sql.functions import col\n",
    "\n",
    "# подсчет суммых всех выданных бюллетеней\n",
    "\n",
    "df_presence = df_presence \\\n",
    "  .withColumn('sum papers', reduce(add, [col(x) for x in ['sum papers issued early','sum papers issued inside', 'sum papers issued out']])) \\\n",
    "  .select('Region', 'sum all people', 'sum papers') \\\n",
    "  .sort('sum all people', ascending=False) \n",
    "\n",
    "df_presence.show(10)"
   ]
  },
  {
   "cell_type": "code",
   "execution_count": 380,
   "metadata": {},
   "outputs": [
    {
     "name": "stdout",
     "output_type": "stream",
     "text": [
      "+--------------------+------------------+\n",
      "|              Region|        % presence|\n",
      "+--------------------+------------------+\n",
      "|Территория за пре...|0.9806986984380843|\n",
      "|     Республика Тыва|0.9366369316170003|\n",
      "| Ямало-Ненецкий а...|0.9190125747324195|\n",
      "| Кабардино-Балкар...|0.9180157863562131|\n",
      "| Чеченская Респуб...|0.9154001705101918|\n",
      "| Республика Север...|0.8998810071492768|\n",
      "| Республика Дагестан|0.8747795414462081|\n",
      "| Карачаево-Черкес...|0.8740544668203033|\n",
      "| Кемеровская область|0.8322733516003962|\n",
      "| Чукотский автоно...|0.8228138695924391|\n",
      "+--------------------+------------------+\n",
      "only showing top 10 rows\n",
      "\n"
     ]
    }
   ],
   "source": [
    "# расчет явки\n",
    "\n",
    "df_presence_perc = df_presence.withColumn('% presence', col('sum papers') / col('sum all people')) \\\n",
    "  .select('Region', '% presence') \\\n",
    "  .sort('% presence', ascending=False)\n",
    "    \n",
    "df_presence_perc.show(10)"
   ]
  },
  {
   "cell_type": "code",
   "execution_count": 417,
   "metadata": {},
   "outputs": [],
   "source": [
    "# итоговая функция расчета и сохранения результата явки\n",
    "\n",
    "df.groupBy('Region') \\\n",
    "  .agg(F.sum('all people').alias('sum all people'), \\\n",
    "      F.sum('papers issued early').alias('sum papers issued early'), \\\n",
    "      F.sum('papers issued inside').alias('sum papers issued inside'), \\\n",
    "      F.sum('papers issued out').alias('sum papers issued out')) \\\n",
    "  .withColumn('sum papers', reduce(add, [col(x) for x in ['sum papers issued early','sum papers issued inside', 'sum papers issued out']])) \\\n",
    "  .withColumn('% presence', col('sum papers') / col('sum all people')) \\\n",
    "  .select('Region', '% presence') \\\n",
    "  .sort('% presence', ascending=False) \\\n",
    "  .toPandas().to_csv(\"President elections % presence.csv\")"
   ]
  },
  {
   "cell_type": "markdown",
   "metadata": {},
   "source": [
    "## Выбрать любимого кандидата и найти тот избиратльный участок, на котором он получил наибольший результат (учитывать участки на которых проголосовало больше 300 человек)\n",
    "\n",
    "Фильтруем результаты на участках по условию больше 300 голосов, из оставшихся выбираем максимум и выводим местоположение"
   ]
  },
  {
   "cell_type": "code",
   "execution_count": 381,
   "metadata": {},
   "outputs": [],
   "source": [
    "favorites = ['Baburin', 'Grudinin', 'Zhirinovskyi', 'Putin', \\\n",
    "          'Sobchak', 'Suraikin', 'Titov', 'Yavlisky']\n",
    "\n",
    "# для проверки по всем\n",
    "favorite = favorites[1]"
   ]
  },
  {
   "cell_type": "code",
   "execution_count": 419,
   "metadata": {},
   "outputs": [
    {
     "name": "stdout",
     "output_type": "stream",
     "text": [
      "+-------------------+---------+----+----+\n",
      "|             Region|      TIK| UIK| Max|\n",
      "+-------------------+---------+----+----+\n",
      "| Московская область|Ленинская|1306|1141|\n",
      "+-------------------+---------+----+----+\n",
      "only showing top 1 row\n",
      "\n"
     ]
    }
   ],
   "source": [
    "df_favorite = df.filter(col(favorite) >= 300) \\\n",
    "      .select('Region','TIK','UIK', favorite) \\\n",
    "      .groupBy('Region','TIK','UIK') \\\n",
    "      .agg(F.max(favorite).alias('Max')) \\\n",
    "      .sort('Max', ascending=False)\n",
    "\n",
    "df_favorite.show(1)"
   ]
  },
  {
   "cell_type": "markdown",
   "metadata": {},
   "source": [
    "## Найти регион, где разница между ТИК с наибольшей явкой и наименьшей максимальна\n",
    "\n",
    "Рассчитать явку для ТИК, затем рассчитать разницу, выбрать максимум"
   ]
  },
  {
   "cell_type": "code",
   "execution_count": 388,
   "metadata": {},
   "outputs": [
    {
     "name": "stdout",
     "output_type": "stream",
     "text": [
      "+---------------+--------------------+------------------+\n",
      "|         Region|                 TIK|        % presence|\n",
      "+---------------+--------------------+------------------+\n",
      "| Алтайский край|          Калманская|0.6171454219030521|\n",
      "| Алтайский край|           Заринская|0.7782430083741507|\n",
      "| Алтайский край| Сибирская городская|0.7997578692493946|\n",
      "| Алтайский край|  Барнаул, Ленинская|0.6390487043367891|\n",
      "| Алтайский край|            Троицкая| 0.679664570230608|\n",
      "| Алтайский край|        Тюменцевская|0.7187410586552218|\n",
      "| Алтайский край|Барнаул, Индустри...|0.6548344857415406|\n",
      "| Алтайский край|           Чарышская|0.6825721671693236|\n",
      "| Алтайский край|            Целинная|0.7428841756682173|\n",
      "| Алтайский край|          Тогульская|0.7332916926920675|\n",
      "| Алтайский край|     Панкрушихинская|0.6834268230494646|\n",
      "| Алтайский край|           Хабарская|0.6735224586288416|\n",
      "| Алтайский край|     Шелаболихинская|0.7076369996113486|\n",
      "| Алтайский край|          Рубцовская|0.7446634783623003|\n",
      "| Алтайский край|         Косихинская|0.6301075268817204|\n",
      "| Алтайский край|         Егорьевская|0.6301705547931779|\n",
      "| Алтайский край|        Кытмановская|0.7375977819586098|\n",
      "| Алтайский край|         Шипуновская|0.6533391153512575|\n",
      "| Алтайский край|    Бийск, Восточная|0.5730223503425556|\n",
      "| Алтайский край|        Топчихинская| 0.679707017942312|\n",
      "+---------------+--------------------+------------------+\n",
      "only showing top 20 rows\n",
      "\n"
     ]
    }
   ],
   "source": [
    "# Явка по ТИК\n",
    "\n",
    "df_TIK = df.groupBy('Region','TIK') \\\n",
    "  .agg(F.sum('all people').alias('sum all TIK people'), \\\n",
    "      F.sum('papers issued early').alias('sum TIK papers issued early'), \\\n",
    "      F.sum('papers issued inside').alias('sum TIK papers issued inside'), \\\n",
    "      F.sum('papers issued out').alias('sum TIK papers issued out')) \\\n",
    "  .withColumn('sum papers', reduce(add, [col(x) for x in ['sum TIK papers issued early','sum TIK papers issued inside', 'sum TIK papers issued out']])) \\\n",
    "  .withColumn('% presence', col('sum papers') / col('sum all TIK people')) \\\n",
    "  .select('Region', 'TIK', '% presence') \\\n",
    "  .sort('Region')\n",
    "\n",
    "df_TIK.show()"
   ]
  },
  {
   "cell_type": "code",
   "execution_count": 390,
   "metadata": {},
   "outputs": [
    {
     "name": "stdout",
     "output_type": "stream",
     "text": [
      "+--------------------+-------------------+\n",
      "|              Region|               Diff|\n",
      "+--------------------+-------------------+\n",
      "| Архангельская об...|0.49859164840684894|\n",
      "| Сахалинская область| 0.4842508035844767|\n",
      "| Республика Дагестан|0.46389878363882775|\n",
      "|   Самарская область|0.41698130506775954|\n",
      "|   Красноярский край| 0.4159372590331167|\n",
      "| Саратовская область| 0.4003895056872615|\n",
      "| Республика Татар...|  0.394714905703235|\n",
      "|  Краснодарский край| 0.3725799222313191|\n",
      "| Республика Адыге...|0.36020071603446446|\n",
      "| Республика Калмыкия|0.35800470471564194|\n",
      "+--------------------+-------------------+\n",
      "only showing top 10 rows\n",
      "\n"
     ]
    }
   ],
   "source": [
    "# расчет разницы, сортировка по убыванию\n",
    "\n",
    "df_TIK.groupBy('Region') \\\n",
    "  .agg((F.max('% presence') - F.min('% presence')).alias('Diff')) \\\n",
    "  .sort('Diff', ascending=False) \\\n",
    "  .show(10)\n",
    "\n",
    "# конкретно максимум\n",
    "# df_TIK.show(1)"
   ]
  },
  {
   "cell_type": "markdown",
   "metadata": {},
   "source": [
    "## Посчитать дисперсию по явке для каждого региона (учитывать УИК)"
   ]
  },
  {
   "cell_type": "code",
   "execution_count": 420,
   "metadata": {},
   "outputs": [
    {
     "name": "stdout",
     "output_type": "stream",
     "text": [
      "+--------------------+-----------------+\n",
      "|              Region|              Std|\n",
      "+--------------------+-----------------+\n",
      "|Территория за пре...|1332.153361037134|\n",
      "| Чеченская Респуб...|779.5717067527235|\n",
      "| Ямало-Ненецкий а...|739.3290449083053|\n",
      "| Республика Север...|677.9089014204244|\n",
      "| Республика Дагестан|657.2845481650252|\n",
      "|     Республика Тыва|641.6682099770799|\n",
      "| Кемеровская область|621.0871610694816|\n",
      "| Магаданская область|614.8118916285797|\n",
      "| Кабардино-Балкар...|614.0460846716691|\n",
      "|    Брянская область|592.4564291304055|\n",
      "+--------------------+-----------------+\n",
      "only showing top 10 rows\n",
      "\n"
     ]
    }
   ],
   "source": [
    "# создаем столбец с количеством посетивших УИК людей, затем группировка по региону рассчитывает дисперсию\n",
    "\n",
    "df_presence_var = df.withColumn('sum papers',\\\n",
    "    reduce(add, [col(x) for x in ['papers issued early','papers issued inside', 'papers issued out']])) \\\n",
    "  .select('Region','TIK', 'UIK','sum papers') \\\n",
    "  .groupBy('Region') \\\n",
    "  .agg(F.stddev('sum papers').alias('Std')) \\\n",
    "  .sort('Std', ascending=False) \n",
    "\n",
    "df_presence_var.toPandas().to_csv(\"Presence Std.csv\")\n",
    "\n",
    "df_presence_var.show(10)"
   ]
  },
  {
   "cell_type": "markdown",
   "metadata": {},
   "source": [
    "## Для каждого кандидата посчитать таблицу: результат (%, округленный до целого) - количество УИК, на которых кандидат получил данный результат\n",
    "\n",
    "Процент, полученный кандидатом = число голосов за него / число выданных на участке бюллетеней (всех пришедших голосовать людей)"
   ]
  },
  {
   "cell_type": "code",
   "execution_count": 422,
   "metadata": {},
   "outputs": [],
   "source": [
    "candidates = ['Baburin', 'Grudinin', 'Zhirinovskyi', 'Putin', \\\n",
    "          'Sobchak', 'Suraikin', 'Titov', 'Yavlisky']\n",
    "\n",
    "papers = ['papers issued early', 'papers issued inside', 'papers issued out']"
   ]
  },
  {
   "cell_type": "code",
   "execution_count": 392,
   "metadata": {},
   "outputs": [
    {
     "name": "stdout",
     "output_type": "stream",
     "text": [
      "+--------------------+-------+--------+------------+------+-------+--------+-----+--------+\n",
      "|              Region|Baburin|Grudinin|Zhirinovskyi| Putin|Sobchak|Suraikin|Titov|Yavlisky|\n",
      "+--------------------+-------+--------+------------+------+-------+--------+-----+--------+\n",
      "|      Алтайский край|   7581|  281978|       84785|770278|  11788|    7855| 5532|    7259|\n",
      "|    Амурская область|   2358|   73485|       37909|264493|   4428|    2466| 2080|    1951|\n",
      "| Архангельская об...|   4448|   51868|       46925|407190|  10588|    3842| 4982|    6239|\n",
      "| Астраханская обл...|   2185|   64047|       19339|342195|   5060|    2823| 2233|    2504|\n",
      "| Белгородская обл...|   5218|   93102|       49685|711392|   8474|    6534| 4835|    4445|\n",
      "|    Брянская область|   4472|   68375|       43940|636087|   7463|    4265| 4175|    3524|\n",
      "| Владимирская обл...|   5440|   93649|       58822|546042|  10777|    5075| 6098|    6147|\n",
      "| Волгоградская об...|   8040|  140708|       69909|929541|  14403|    8116| 6851|   10242|\n",
      "| Вологодская область|   5184|   75644|       54556|453576|  13365|    4567| 5333|    8048|\n",
      "| Воронежская область|   7830|  136435|       64905|952642|  13024|    8561| 7277|    7561|\n",
      "+--------------------+-------+--------+------------+------+-------+--------+-----+--------+\n",
      "only showing top 10 rows\n",
      "\n"
     ]
    }
   ],
   "source": [
    "# группируем результаты по регионам\n",
    "\n",
    "df_groupBy_Region = df_goupBy_TIK \\\n",
    "      .groupBy('Region') \\\n",
    "      .agg(F.sum('Baburin').alias('Baburin'), \\\n",
    "          F.sum('Grudinin').alias('Grudinin'), \\\n",
    "          F.sum('Zhirinovskyi').alias('Zhirinovskyi'), \\\n",
    "          F.sum('Putin').alias('Putin'), \\\n",
    "          F.sum('Sobchak').alias('Sobchak'), \\\n",
    "          F.sum('Suraikin').alias('Suraikin'), \\\n",
    "          F.sum('Titov').alias('Titov'), \\\n",
    "          F.sum('Yavlisky').alias('Yavlisky')) \\\n",
    "      .sort('Region', ascending=True) \n",
    "\n",
    "df_groupBy_Region.show(10)"
   ]
  },
  {
   "cell_type": "code",
   "execution_count": 423,
   "metadata": {},
   "outputs": [
    {
     "name": "stdout",
     "output_type": "stream",
     "text": [
      "+------+-------+--------+------------+--------+-------+--------+------+--------+\n",
      "|   Fin|Baburin|Grudinin|Zhirinovskyi|   Putin|Sobchak|Suraikin| Titov|Yavlisky|\n",
      "+------+-------+--------+------------+--------+-------+--------+------+--------+\n",
      "|Russia| 475599| 8608210|     4124987|56048674|1225330|  496001|552007|  762304|\n",
      "+------+-------+--------+------------+--------+-------+--------+------+--------+\n",
      "\n"
     ]
    }
   ],
   "source": [
    "from pyspark.sql.functions import lit\n",
    "# итоговое число голосов за каждого кандидата\n",
    "# добавляем новый столбец с единым по всей таблице значением\n",
    "# чтобы по нему можно было сделать группировку и получить общую сумму голосов по всем кандидатам\n",
    "\n",
    "df_groupBy_Russia = df_groupBy_Region.withColumn(\"Fin\", lit('Russia')) \\\n",
    "      .groupBy('Fin') \\\n",
    "      .agg(F.sum('Baburin').alias('Baburin'), \\\n",
    "          F.sum('Grudinin').alias('Grudinin'), \\\n",
    "          F.sum('Zhirinovskyi').alias('Zhirinovskyi'), \\\n",
    "          F.sum('Putin').alias('Putin'), \\\n",
    "          F.sum('Sobchak').alias('Sobchak'), \\\n",
    "          F.sum('Suraikin').alias('Suraikin'), \\\n",
    "          F.sum('Titov').alias('Titov'), \\\n",
    "          F.sum('Yavlisky').alias('Yavlisky')) \n",
    "\n",
    "df_groupBy_Russia.show(10)"
   ]
  },
  {
   "cell_type": "code",
   "execution_count": 395,
   "metadata": {},
   "outputs": [
    {
     "name": "stdout",
     "output_type": "stream",
     "text": [
      "+------+--------+\n",
      "|   Fin|  papers|\n",
      "+------+--------+\n",
      "|Russia|73128855|\n",
      "+------+--------+\n",
      "\n"
     ]
    }
   ],
   "source": [
    "# расчет количества людей, посетивших выборы\n",
    "\n",
    "df_papers = df_presence.withColumn('Fin', lit('Russia')) \\\n",
    "    .groupBy('Fin') \\\n",
    "    .agg(F.sum('sum papers').alias('papers'))\n",
    "\n",
    "df_papers.show()\n",
    "\n",
    "# Число избирателей, пришедших на выборы\n",
    "sum_papers = df_papers.collect()[0]['papers']"
   ]
  },
  {
   "cell_type": "code",
   "execution_count": 396,
   "metadata": {},
   "outputs": [
    {
     "data": {
      "text/plain": [
       "[1, 12, 6, 77, 2, 1, 1, 1]"
      ]
     },
     "execution_count": 396,
     "metadata": {},
     "output_type": "execute_result"
    }
   ],
   "source": [
    "# расчет процента голосов за каждого кандидата с округлением\n",
    "\n",
    "num_voting = [df_groupBy_Russia.collect()[0][c] for c in candidates]\n",
    "num_voting = [round(num / sum_papers * 100) for num in num_voting]\n",
    "num_voting"
   ]
  },
  {
   "cell_type": "code",
   "execution_count": 397,
   "metadata": {},
   "outputs": [],
   "source": [
    "# функции округления и численные операции со столбцами в SparkDataFrame осуществляются сложно\n",
    "# я не нашла хорошие варианты для работы, поэтому перешла на SparkSQL\n",
    "# при переходе на SQL необходимо, чтобы все названия столбцов были единой строкой без пробелов\n",
    "\n",
    "df = spark.read.csv(VOTING_FILE, inferSchema=True, header=True).toDF('Num','Region','TIK','UIK', \\\n",
    "          'all_people', 'recieved_papers', \\\n",
    "          'papers_issued_early', 'papers_issued_inside', 'papers_issued_out', 'cancelled_papers', \\\n",
    "          'papers_in_portable_boxes', 'papers_in_stacionary_boxes', \\\n",
    "          'bad_papers', 'good_papers', 'lost_papers', 'not_counted_papers', \\\n",
    "          'Baburin', 'Grudinin', 'Zhirinovskyi', 'Putin', \\\n",
    "          'Sobchak', 'Suraikin', 'Titov', 'Yavlisky')\n",
    "\n",
    "# добавляем снова столбец с единым значением по всей таблице для расчета общей суммы\n",
    "df = df.withColumn('Fin', lit('Russia'))\n",
    "# создаем View \n",
    "df.createOrReplaceTempView('voting')"
   ]
  },
  {
   "cell_type": "code",
   "execution_count": 399,
   "metadata": {},
   "outputs": [
    {
     "name": "stdout",
     "output_type": "stream",
     "text": [
      "+------+--------------------+----------+---+-------+--------+------------+-----+-------+--------+-----+--------+----------+\n",
      "|   Fin|              Region|       TIK|UIK|Baburin|Grudinin|Zhirinovskyi|Putin|Sobchak|Suraikin|Titov|Yavlisky|sum_papers|\n",
      "+------+--------------------+----------+---+-------+--------+------------+-----+-------+--------+-----+--------+----------+\n",
      "|Russia| Республика Адыге...|Адыгейская|  1|      0|     137|          32| 1977|     14|       0|    1|       5|      2169|\n",
      "|Russia| Республика Адыге...|Адыгейская|  2|     15|      86|          65| 2389|     13|       5|    6|      15|      2616|\n",
      "|Russia| Республика Адыге...|Адыгейская|  3|      1|      62|          13| 2645|      6|       3|    4|       0|      2739|\n",
      "|Russia| Республика Адыге...|Адыгейская|  4|      5|     288|          12| 1642|     21|       6|    2|       2|      1999|\n",
      "|Russia| Республика Адыге...|Адыгейская|  5|      2|      44|           6|  624|      6|       0|    0|       2|       687|\n",
      "|Russia| Республика Адыге...|Адыгейская|  6|      1|      38|          21|  952|      2|       2|    2|       1|      1022|\n",
      "|Russia| Республика Адыге...|Гиагинская|  7|      9|     243|          82| 1599|     18|      11|   10|       0|      1992|\n",
      "|Russia| Республика Адыге...|Гиагинская|  8|      7|     151|          69| 1388|      9|       7|    2|       5|      1654|\n",
      "|Russia| Республика Адыге...|Гиагинская|  9|      9|     284|          85| 1802|      7|      17|    6|       4|      2246|\n",
      "|Russia| Республика Адыге...|Гиагинская| 10|     12|     160|          69| 1484|     10|       6|    2|       3|      1766|\n",
      "+------+--------------------+----------+---+-------+--------+------------+-----+-------+--------+-----+--------+----------+\n",
      "only showing top 10 rows\n",
      "\n"
     ]
    }
   ],
   "source": [
    "# общая таблица с добавленным столбцов числа посетивших выборы людей\n",
    "df_UIK_vot_every = spark.sql(\"\"\"SELECT Fin, Region, TIK, UIK,\n",
    "Baburin, Grudinin, Zhirinovskyi, Putin, Sobchak, Suraikin, Titov, Yavlisky,\n",
    "(papers_issued_early + papers_issued_inside + papers_issued_out) AS sum_papers \n",
    "FROM voting\"\"\")\n",
    "\n",
    "df_UIK_vot_every.show(10)\n",
    "\n",
    "# создание View\n",
    "df_UIK_vot_every.createOrReplaceTempView('uik_voting')"
   ]
  },
  {
   "cell_type": "code",
   "execution_count": 401,
   "metadata": {},
   "outputs": [
    {
     "name": "stdout",
     "output_type": "stream",
     "text": [
      "+------+--------------------+----------+---+-------+--------+------------+-----+-------+--------+-----+--------+\n",
      "|   Fin|              Region|       TIK|UIK|Baburin|Grudinin|Zhirinovskyi|Putin|Sobchak|Suraikin|Titov|Yavlisky|\n",
      "+------+--------------------+----------+---+-------+--------+------------+-----+-------+--------+-----+--------+\n",
      "|Russia| Республика Адыге...|Адыгейская|  1|    0.0|     6.0|         1.0| 91.0|    1.0|     0.0|  0.0|     0.0|\n",
      "|Russia| Республика Адыге...|Адыгейская|  2|    1.0|     3.0|         2.0| 91.0|    0.0|     0.0|  0.0|     1.0|\n",
      "|Russia| Республика Адыге...|Адыгейская|  3|    0.0|     2.0|         0.0| 97.0|    0.0|     0.0|  0.0|     0.0|\n",
      "|Russia| Республика Адыге...|Адыгейская|  4|    0.0|    14.0|         1.0| 82.0|    1.0|     0.0|  0.0|     0.0|\n",
      "|Russia| Республика Адыге...|Адыгейская|  5|    0.0|     6.0|         1.0| 91.0|    1.0|     0.0|  0.0|     0.0|\n",
      "|Russia| Республика Адыге...|Адыгейская|  6|    0.0|     4.0|         2.0| 93.0|    0.0|     0.0|  0.0|     0.0|\n",
      "|Russia| Республика Адыге...|Гиагинская|  7|    0.0|    12.0|         4.0| 80.0|    1.0|     1.0|  1.0|     0.0|\n",
      "|Russia| Республика Адыге...|Гиагинская|  8|    0.0|     9.0|         4.0| 84.0|    1.0|     0.0|  0.0|     0.0|\n",
      "|Russia| Республика Адыге...|Гиагинская|  9|    0.0|    13.0|         4.0| 80.0|    0.0|     1.0|  0.0|     0.0|\n",
      "|Russia| Республика Адыге...|Гиагинская| 10|    1.0|     9.0|         4.0| 84.0|    1.0|     0.0|  0.0|     0.0|\n",
      "+------+--------------------+----------+---+-------+--------+------------+-----+-------+--------+-----+--------+\n",
      "only showing top 10 rows\n",
      "\n"
     ]
    }
   ],
   "source": [
    "# Расчет процента проголосовавших за кандидата по каждому УИК\n",
    "\n",
    "df_UIK_percenrage = spark.sql(\"\"\"SELECT Fin, Region, TIK, UIK,\n",
    "round(Baburin / sum_papers * 100) as Baburin, \n",
    "round(Grudinin / sum_papers * 100) as Grudinin,\n",
    "round(Zhirinovskyi / sum_papers * 100) as Zhirinovskyi, \n",
    "round(Putin / sum_papers * 100) as Putin, \n",
    "round(Sobchak / sum_papers * 100) as Sobchak, \n",
    "round(Suraikin / sum_papers * 100) as Suraikin, \n",
    "round(Titov / sum_papers * 100) as Titov, \n",
    "round(Yavlisky / sum_papers * 100) as Yavlisky\n",
    "FROM uik_voting\"\"\")\n",
    "\n",
    "df_UIK_percenrage.show(10)\n",
    "\n",
    "# создание View\n",
    "df_UIK_percenrage.createOrReplaceTempView('uik_percentage')"
   ]
  },
  {
   "cell_type": "code",
   "execution_count": 352,
   "metadata": {},
   "outputs": [
    {
     "data": {
      "text/plain": [
       "[1, 12, 6, 77, 2, 1, 1, 1]"
      ]
     },
     "execution_count": 352,
     "metadata": {},
     "output_type": "execute_result"
    }
   ],
   "source": [
    "num_voting"
   ]
  },
  {
   "cell_type": "code",
   "execution_count": 402,
   "metadata": {},
   "outputs": [
    {
     "name": "stdout",
     "output_type": "stream",
     "text": [
      "+------+-------+--------+------------+-----+-------+--------+-----+--------+\n",
      "|   Fin|Baburin|Grudinin|Zhirinovskyi|Putin|Sobchak|Suraikin|Titov|Yavlisky|\n",
      "+------+-------+--------+------------+-----+-------+--------+-----+--------+\n",
      "|Russia|  47609|    7816|       13605| 4652|  18358|   48504|39719|   30605|\n",
      "+------+-------+--------+------------+-----+-------+--------+-----+--------+\n",
      "\n"
     ]
    }
   ],
   "source": [
    "# Итоговая таблица с проверкой по рассчитанным ранее процентам проголосовавших\n",
    "\n",
    "spark.sql(\"\"\"SELECT Fin, sum(case Baburin when 1 then 1 else 0 end) as Baburin,\n",
    "sum(case Grudinin when 12 then 1 else 0 end) as Grudinin,\n",
    "sum(case Zhirinovskyi when 6 then 1 else 0 end) as Zhirinovskyi,\n",
    "sum(case Putin when 77 then 1 else 0 end) as Putin,\n",
    "sum(case Sobchak when 2 then 1 else 0 end) as Sobchak,\n",
    "sum(case Suraikin when 1 then 1 else 0 end) as Suraikin,\n",
    "sum(case Titov when 1 then 1 else 0 end) as Titov,\n",
    "sum(case Yavlisky when 1 then 1 else 0 end) as Yavlisky\n",
    "FROM uik_percentage \n",
    "GROUP BY(Fin) \"\"\").show()"
   ]
  }
 ],
 "metadata": {
  "kernelspec": {
   "display_name": "Python 3",
   "language": "python",
   "name": "python3"
  },
  "language_info": {
   "codemirror_mode": {
    "name": "ipython",
    "version": 3
   },
   "file_extension": ".py",
   "mimetype": "text/x-python",
   "name": "python",
   "nbconvert_exporter": "python",
   "pygments_lexer": "ipython3",
   "version": "3.7.6"
  }
 },
 "nbformat": 4,
 "nbformat_minor": 2
}
